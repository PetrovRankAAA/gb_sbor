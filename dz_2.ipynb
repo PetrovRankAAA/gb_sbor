{
 "cells": [
  {
   "cell_type": "code",
   "execution_count": 1,
   "id": "cde5648f",
   "metadata": {},
   "outputs": [],
   "source": [
    "import requests\n",
    "import pandas as pd\n",
    "from bs4 import BeautifulSoup"
   ]
  },
  {
   "cell_type": "code",
   "execution_count": 9,
   "id": "d6a372e4",
   "metadata": {},
   "outputs": [],
   "source": [
    "def collect_vacancies_hh(profession):\n",
    "    headers = {'User-agent': \"Mozilla/5.0 (Windows NT 10.0; Win64; x64) \"\n",
    "                             \"AppleWebKit/537.36 (KHTML, like Gecko) \"\n",
    "                             \"Chrome/98.0.4758.82 Safari/537.36\"}\n",
    "\n",
    "    profession = profession.replace(' ', '+')\n",
    "    params = \"/search/vacancy?clusters=true&ored_clusters=true\" \\\n",
    "             \"&enable_snippets=true&salary=&text=\" + profession\n",
    "\n",
    "    vacancies_list = {'Name':[],\n",
    "                      'Source':[],\n",
    "                      'Minimum Salary':[],\n",
    "                      'Maximum Salary':[],\n",
    "                      'Currency':[],\n",
    "                      'Link':[]}\n",
    "    while True:\n",
    "        url = \"https://novyj-urengoy.hh.ru\" + params\n",
    "        response = requests.get(url, headers=headers)\n",
    "        \n",
    "        \n",
    "        if response.ok:\n",
    "            dom = BeautifulSoup(response.text, 'html.parser')\n",
    "            vacancies = dom.find_all(\"div\", {\"class\": \"vacancy-serp-item\"})\n",
    "            for vacancy in vacancies:\n",
    "                vacancy_title = vacancy.find('a', {\n",
    "                    'data-qa': 'vacancy-serp__vacancy-title'})\n",
    "                vacancy_compensation = vacancy.find('span', {\n",
    "                    'data-qa': 'vacancy-serp__vacancy-compensation'})\n",
    "                \n",
    "                vacancies_list['Name'].append(vacancy_title.getText())\n",
    "                vacancies_list['Source'].append('hh.ru')\n",
    "                \n",
    "                min_wg, max_wg, cur = None, None, None\n",
    "                if vacancy_compensation != None:\n",
    "                    salary_info = vacancy_compensation.getText().split()\n",
    "                    min_wg, max_wg, cur = read_compensation(salary_info)\n",
    "                vacancies_list['Minimum Salary'].append(min_wg)\n",
    "                vacancies_list['Maximum Salary'].append(max_wg)\n",
    "                vacancies_list['Currency'].append(cur)\n",
    "                    \n",
    "                vacancies_list['Link'].append(vacancy_title['href'])\n",
    "\n",
    "            #проверка на наличие кнопки \"дальше\"\n",
    "            button = dom.find('a', {'data-qa':\"pager-next\"})\n",
    "            if button == None:\n",
    "                return vacancies_list\n",
    "            params = button.attrs['href']"
   ]
  },
  {
   "cell_type": "code",
   "execution_count": 3,
   "id": "323e7f17",
   "metadata": {},
   "outputs": [],
   "source": [
    "def read_compensation(contents):\n",
    "    min_wage = None\n",
    "    max_wage = None\n",
    "    currency = contents[-1].replace('.','')\n",
    "\n",
    "    if contents[0] == 'до':\n",
    "        max_wage = contents[1] + contents[2]\n",
    "    elif contents[0] == 'от':\n",
    "        min_wage = contents[1] + contents[2]\n",
    "    elif contents[2] == '–':\n",
    "        min_wage = contents[0] + contents[1]\n",
    "        max_wage = contents[3] + contents[4]\n",
    "\n",
    "    return min_wage, max_wage, currency"
   ]
  },
  {
   "cell_type": "code",
   "execution_count": 10,
   "id": "728a4297",
   "metadata": {},
   "outputs": [],
   "source": [
    "profession = 'программист Python'\n",
    "vac_list = collect_vacancies_hh(profession)"
   ]
  },
  {
   "cell_type": "code",
   "execution_count": 11,
   "id": "1968c8f8",
   "metadata": {
    "scrolled": true
   },
   "outputs": [],
   "source": [
    "vacancies_df = pd.DataFrame(vac_list) "
   ]
  },
  {
   "cell_type": "code",
   "execution_count": 12,
   "id": "3047a1f7",
   "metadata": {},
   "outputs": [
    {
     "name": "stdout",
     "output_type": "stream",
     "text": [
      "                                                  Name Source Minimum Salary  \\\n",
      "0                                     Python Developer  hh.ru           2500   \n",
      "1                 Software Engineer / Python developer  hh.ru           3000   \n",
      "2                                    Разработчик C/C++  hh.ru           None   \n",
      "3                             Backend Python Developer  hh.ru           None   \n",
      "4                                 PHP/Python Developer  hh.ru          20000   \n",
      "..                                                 ...    ...            ...   \n",
      "795  Разработчик системы мониторинга оборудования и...  hh.ru           None   \n",
      "796                 Middle Python Developer (удаленно)  hh.ru         260000   \n",
      "797                 Разработчик DWH (Airflow + Python)  hh.ru           None   \n",
      "798                            Senior Python Developer  hh.ru           None   \n",
      "799                                 Программист Python  hh.ru           None   \n",
      "\n",
      "    Maximum Salary Currency                                               Link  \n",
      "0             4500      USD  https://novyj-urengoy.hh.ru/vacancy/52558321?f...  \n",
      "1             5000      USD  https://novyj-urengoy.hh.ru/vacancy/52535473?f...  \n",
      "2           220000      руб  https://novyj-urengoy.hh.ru/vacancy/51998774?f...  \n",
      "3             None     None  https://novyj-urengoy.hh.ru/vacancy/51262245?f...  \n",
      "4             None      грн  https://novyj-urengoy.hh.ru/vacancy/52500875?f...  \n",
      "..             ...      ...                                                ...  \n",
      "795         158000      руб  https://novyj-urengoy.hh.ru/vacancy/51871005?f...  \n",
      "796         350000      руб  https://novyj-urengoy.hh.ru/vacancy/51317962?f...  \n",
      "797           None     None  https://novyj-urengoy.hh.ru/vacancy/51849191?f...  \n",
      "798           None     None  https://novyj-urengoy.hh.ru/vacancy/52099455?f...  \n",
      "799           None     None  https://novyj-urengoy.hh.ru/vacancy/52035954?f...  \n",
      "\n",
      "[800 rows x 6 columns]\n"
     ]
    }
   ],
   "source": [
    "print(vacancies_df)"
   ]
  }
 ],
 "metadata": {
  "kernelspec": {
   "display_name": "Python 3",
   "language": "python",
   "name": "python3"
  },
  "language_info": {
   "codemirror_mode": {
    "name": "ipython",
    "version": 3
   },
   "file_extension": ".py",
   "mimetype": "text/x-python",
   "name": "python",
   "nbconvert_exporter": "python",
   "pygments_lexer": "ipython3",
   "version": "3.8.8"
  }
 },
 "nbformat": 4,
 "nbformat_minor": 5
}
